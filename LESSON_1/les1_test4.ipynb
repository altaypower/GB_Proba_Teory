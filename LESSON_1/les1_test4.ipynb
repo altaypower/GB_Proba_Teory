{
 "cells": [
  {
   "cell_type": "markdown",
   "metadata": {
    "id": "TGvmnJVa7PQx"
   },
   "source": [
    "В лотерее 100 билетов. Из них 2 выигрышных. Какова вероятность того, что 2 приобретенных билета окажутся выигрышными?"
   ]
  },
  {
   "cell_type": "markdown",
   "metadata": {
    "id": "vmTKkyn2KJsv"
   },
   "source": [
    "Решаю по формуле для зависимых событий. Обозначим эти 2 последовательных события как А, В. Тогда:"
   ]
  },
  {
   "cell_type": "code",
   "execution_count": 1,
   "metadata": {
    "executionInfo": {
     "elapsed": 902,
     "status": "ok",
     "timestamp": 1620576173536,
     "user": {
      "displayName": "Дмитрий Яковлев",
      "photoUrl": "https://lh3.googleusercontent.com/a-/AOh14Gj955dF54GnacvnmosufAoRt4x1ZjitIuNkxEceXg=s64",
      "userId": "15816457357325345114"
     },
     "user_tz": -420
    },
    "id": "wC5Jvx_WcWPr"
   },
   "outputs": [],
   "source": [
    "P_A = 2/100"
   ]
  },
  {
   "cell_type": "code",
   "execution_count": 2,
   "metadata": {
    "executionInfo": {
     "elapsed": 892,
     "status": "ok",
     "timestamp": 1620576173540,
     "user": {
      "displayName": "Дмитрий Яковлев",
      "photoUrl": "https://lh3.googleusercontent.com/a-/AOh14Gj955dF54GnacvnmosufAoRt4x1ZjitIuNkxEceXg=s64",
      "userId": "15816457357325345114"
     },
     "user_tz": -420
    },
    "id": "Jp4OsbYoeQhd"
   },
   "outputs": [],
   "source": [
    "P_B_A = 1/99"
   ]
  },
  {
   "cell_type": "code",
   "execution_count": 3,
   "metadata": {
    "colab": {
     "base_uri": "https://localhost:8080/"
    },
    "executionInfo": {
     "elapsed": 677,
     "status": "ok",
     "timestamp": 1620576176805,
     "user": {
      "displayName": "Дмитрий Яковлев",
      "photoUrl": "https://lh3.googleusercontent.com/a-/AOh14Gj955dF54GnacvnmosufAoRt4x1ZjitIuNkxEceXg=s64",
      "userId": "15816457357325345114"
     },
     "user_tz": -420
    },
    "id": "_aGMKb08e3tJ",
    "outputId": "49db29c7-0f7c-4be0-a026-602118e95720"
   },
   "outputs": [
    {
     "data": {
      "text/plain": [
       "0.00020202020202020205"
      ]
     },
     "execution_count": 3,
     "metadata": {
      "tags": []
     },
     "output_type": "execute_result"
    }
   ],
   "source": [
    "#Тогда общая вероятность:\n",
    "P = P_A * P_B_A\n",
    "P"
   ]
  },
  {
   "cell_type": "markdown",
   "metadata": {
    "id": "-TG-4IdYvCss"
   },
   "source": [
    "Проверяю через сочетания"
   ]
  },
  {
   "cell_type": "code",
   "execution_count": 4,
   "metadata": {
    "executionInfo": {
     "elapsed": 772,
     "status": "ok",
     "timestamp": 1620576187012,
     "user": {
      "displayName": "Дмитрий Яковлев",
      "photoUrl": "https://lh3.googleusercontent.com/a-/AOh14Gj955dF54GnacvnmosufAoRt4x1ZjitIuNkxEceXg=s64",
      "userId": "15816457357325345114"
     },
     "user_tz": -420
    },
    "id": "ay90WjW0vDAF"
   },
   "outputs": [],
   "source": [
    "from math import factorial\n",
    "def combinations(n, k):\n",
    "    return int(factorial(n) / (factorial(k) * factorial(n - k)))"
   ]
  },
  {
   "cell_type": "code",
   "execution_count": 5,
   "metadata": {
    "colab": {
     "base_uri": "https://localhost:8080/"
    },
    "executionInfo": {
     "elapsed": 690,
     "status": "ok",
     "timestamp": 1620576205902,
     "user": {
      "displayName": "Дмитрий Яковлев",
      "photoUrl": "https://lh3.googleusercontent.com/a-/AOh14Gj955dF54GnacvnmosufAoRt4x1ZjitIuNkxEceXg=s64",
      "userId": "15816457357325345114"
     },
     "user_tz": -420
    },
    "id": "JsCQrRVFvGfW",
    "outputId": "6142e1e4-da80-4b6c-cc2c-60ac5ae51b4d"
   },
   "outputs": [
    {
     "data": {
      "text/plain": [
       "1"
      ]
     },
     "execution_count": 5,
     "metadata": {
      "tags": []
     },
     "output_type": "execute_result"
    }
   ],
   "source": [
    "combinations(2, 2)"
   ]
  },
  {
   "cell_type": "code",
   "execution_count": 6,
   "metadata": {
    "colab": {
     "base_uri": "https://localhost:8080/"
    },
    "executionInfo": {
     "elapsed": 717,
     "status": "ok",
     "timestamp": 1620576225202,
     "user": {
      "displayName": "Дмитрий Яковлев",
      "photoUrl": "https://lh3.googleusercontent.com/a-/AOh14Gj955dF54GnacvnmosufAoRt4x1ZjitIuNkxEceXg=s64",
      "userId": "15816457357325345114"
     },
     "user_tz": -420
    },
    "id": "lFmSSdeMvPtk",
    "outputId": "46844c69-8cde-4efc-cf03-3c0a30e3c1ea"
   },
   "outputs": [
    {
     "data": {
      "text/plain": [
       "4950"
      ]
     },
     "execution_count": 6,
     "metadata": {
      "tags": []
     },
     "output_type": "execute_result"
    }
   ],
   "source": [
    "combinations(100, 2)"
   ]
  },
  {
   "cell_type": "code",
   "execution_count": 7,
   "metadata": {
    "colab": {
     "base_uri": "https://localhost:8080/"
    },
    "executionInfo": {
     "elapsed": 712,
     "status": "ok",
     "timestamp": 1620576238968,
     "user": {
      "displayName": "Дмитрий Яковлев",
      "photoUrl": "https://lh3.googleusercontent.com/a-/AOh14Gj955dF54GnacvnmosufAoRt4x1ZjitIuNkxEceXg=s64",
      "userId": "15816457357325345114"
     },
     "user_tz": -420
    },
    "id": "6tQ9UyvovXFS",
    "outputId": "2cb1832e-0636-434a-a6e8-eddaf7bf94e5"
   },
   "outputs": [
    {
     "data": {
      "text/plain": [
       "0.00020202020202020202"
      ]
     },
     "execution_count": 7,
     "metadata": {
      "tags": []
     },
     "output_type": "execute_result"
    }
   ],
   "source": [
    "1/4950"
   ]
  }
 ],
 "metadata": {
  "colab": {
   "authorship_tag": "ABX9TyOcFzjYOr3DVmmx4lTvAK7J",
   "collapsed_sections": [],
   "name": "les1_test4.ipynb",
   "provenance": [
    {
     "file_id": "1uFyG0EoT2ceLeOBUwgHBrsjdOg1iaYnr",
     "timestamp": 1620574132757
    },
    {
     "file_id": "1amH3HXE6qDUzyCD_X6WQLcx0zCnjDITq",
     "timestamp": 1620538930392
    }
   ]
  },
  "kernelspec": {
   "display_name": "Python 3",
   "language": "python",
   "name": "python3"
  },
  "language_info": {
   "codemirror_mode": {
    "name": "ipython",
    "version": 3
   },
   "file_extension": ".py",
   "mimetype": "text/x-python",
   "name": "python",
   "nbconvert_exporter": "python",
   "pygments_lexer": "ipython3",
   "version": "3.8.5"
  }
 },
 "nbformat": 4,
 "nbformat_minor": 1
}
